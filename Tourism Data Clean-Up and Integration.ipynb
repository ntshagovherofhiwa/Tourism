{
 "cells": [
  {
   "cell_type": "markdown",
   "id": "44d1a800",
   "metadata": {},
   "source": [
    "# Tourism Data Clean-Up and Integration"
   ]
  },
  {
   "cell_type": "markdown",
   "id": "0e1fbf25",
   "metadata": {},
   "source": [
    "## Introduction: \n",
    "\n",
    "The dataset provided for this case study comprises international tourist arrival records for August 2023. In this project, we will embark on a journey of data cleaning and integration. The primary objective is to standardize the given dataset, ensuring consistency and accuracy, to facilitate its seamless integration into a historical record file named \"Tourists, Purpose (2).\" \n"
   ]
  },
  {
   "cell_type": "markdown",
   "id": "1c24b3f5",
   "metadata": {},
   "source": [
    "## Loading the data"
   ]
  },
  {
   "cell_type": "code",
   "execution_count": 118,
   "id": "86ba23ef",
   "metadata": {},
   "outputs": [
    {
     "name": "stdout",
     "output_type": "stream",
     "text": [
      "['MASTERLIST', 'Tourists, Purpose (2)', 'Tourists, Purpose', 'Tourists, Purpose_Merged']\n"
     ]
    }
   ],
   "source": [
    "import pandas as pd\n",
    "\n",
    "#  We start bt loading the Excel file and exploring the tabs\n",
    "file_path ='Tables, August 2023.xlsx'\n",
    "xl = pd.ExcelFile(file_path)\n",
    "print(xl.sheet_names) \n",
    "\n"
   ]
  },
  {
   "cell_type": "markdown",
   "id": "80bdfd50",
   "metadata": {},
   "source": [
    "#### We will now take a look at the individual tabs to see the nature of the data by looking at the first 5 rows of the tables"
   ]
  },
  {
   "cell_type": "markdown",
   "id": "a9e92f98",
   "metadata": {},
   "source": [
    "### MASTERLIST"
   ]
  },
  {
   "cell_type": "code",
   "execution_count": 16,
   "id": "0b8ac761",
   "metadata": {},
   "outputs": [],
   "source": [
    "df_sheet1 = pd.read_excel('Tables, August 2023.xlsx', sheet_name=0)"
   ]
  },
  {
   "cell_type": "code",
   "execution_count": 17,
   "id": "1c028d25",
   "metadata": {},
   "outputs": [
    {
     "name": "stdout",
     "output_type": "stream",
     "text": [
      "     Country Country / Source  Country.1 Country / Source.1 ContinentStatsSA  \\\n",
      "0    Algeria          Algeria    Algeria            Algeria           AFRICA   \n",
      "1     Angola           Angola     Angola             Angola           AFRICA   \n",
      "2  Ascension        Ascension  Ascension          Ascension           AFRICA   \n",
      "3      Benin            Benin      Benin              Benin           AFRICA   \n",
      "4   Botswana         Botswana   Botswana           Botswana           AFRICA   \n",
      "\n",
      "  RegionStatsSA DESIGNATION        SOURCE     CATEGORY  \n",
      "0    AFRICA AIR      AFRICA  OTHER AFRICA   AFRICA AIR  \n",
      "1    AFRICA AIR      AFRICA        ANGOLA   AFRICA AIR  \n",
      "2    AFRICA AIR      AFRICA  OTHER AFRICA   AFRICA AIR  \n",
      "3    AFRICA AIR      AFRICA  OTHER AFRICA   AFRICA AIR  \n",
      "4   AFRICA LAND      AFRICA      BOTSWANA  AFRICA LAND  \n"
     ]
    }
   ],
   "source": [
    "print(df_sheet1.head())"
   ]
  },
  {
   "cell_type": "markdown",
   "id": "85a7fca3",
   "metadata": {},
   "source": [
    "### Tourists, Purpose (2)"
   ]
  },
  {
   "cell_type": "code",
   "execution_count": 9,
   "id": "8a96cc61",
   "metadata": {},
   "outputs": [],
   "source": [
    "df_sheet2 = pd.read_excel('Tables, August 2023.xlsx', sheet_name=1)"
   ]
  },
  {
   "cell_type": "code",
   "execution_count": 10,
   "id": "accd1b42",
   "metadata": {},
   "outputs": [
    {
     "name": "stdout",
     "output_type": "stream",
     "text": [
      "   Unnamed: 0 Unnamed: 1 Unnamed: 2 Unnamed: 3      Row Labels   Unnamed: 5  \\\n",
      "0        2023    Purpose        Jul 2023-07-01           Total  GRAND TOTAL   \n",
      "1        2023    Purpose        Jul 2023-07-01  Overseas Total       REGION   \n",
      "2        2023    Purpose        Jul 2023-07-01          Europe       REGION   \n",
      "3        2023    Purpose        Jul 2023-07-01         Albania       EUROPE   \n",
      "4        2023    Purpose        Jul 2023-07-01         Andorra       EUROPE   \n",
      "\n",
      "    Unnamed: 6      Unnamed: 7   Unnamed: 8    Unnamed: 9  Unnamed: 10  \\\n",
      "0  GRAND TOTAL           Total  GRAND TOTAL   GRAND TOTAL  GRAND TOTAL   \n",
      "1       REGION  Overseas Total       REGION        REGION       REGION   \n",
      "2       REGION          Europe       REGION        REGION       REGION   \n",
      "3       EUROPE         Albania       EUROPE  OTHER EUROPE       EUROPE   \n",
      "4       EUROPE         Andorra       EUROPE  OTHER EUROPE       EUROPE   \n",
      "\n",
      "   Grand Total  Grand Total.1  Business  Holiday   Study  Medical treatment  \n",
      "0       708159         708159   20896.0   683381  3609.0              273.0  \n",
      "1       165705         165705    2489.0   162341   814.0               61.0  \n",
      "2        93602          93602     974.0    92174   424.0               30.0  \n",
      "3            7              7       NaN        7     NaN                NaN  \n",
      "4           24             24       NaN       24     NaN                NaN  \n"
     ]
    }
   ],
   "source": [
    "print(df_sheet2.head())"
   ]
  },
  {
   "cell_type": "markdown",
   "id": "5c4dc0b6",
   "metadata": {},
   "source": [
    "###  Tourists, Purpose"
   ]
  },
  {
   "cell_type": "code",
   "execution_count": 48,
   "id": "20271b31",
   "metadata": {},
   "outputs": [],
   "source": [
    "df_sheet3 = pd.read_excel('Tables, August 2023.xlsx', sheet_name=2, skiprows=5)"
   ]
  },
  {
   "cell_type": "code",
   "execution_count": 49,
   "id": "8e6cf0b0",
   "metadata": {},
   "outputs": [
    {
     "name": "stdout",
     "output_type": "stream",
     "text": [
      "  Row Labels  01 Business  02 Holiday  03 Study  09 Medical treatment  \\\n",
      "0  1Overseas       2489.0      162341     814.0                  61.0   \n",
      "1    1Europe        974.0       92174     424.0                  30.0   \n",
      "2    Albania          NaN           7       NaN                   NaN   \n",
      "3    Andorra          NaN          24       NaN                   NaN   \n",
      "4    Austria         13.0        1239       6.0                   NaN   \n",
      "\n",
      "   Grand Total  \n",
      "0       165705  \n",
      "1        93602  \n",
      "2            7  \n",
      "3           24  \n",
      "4         1258  \n"
     ]
    }
   ],
   "source": [
    "print(df_sheet3.head())"
   ]
  },
  {
   "cell_type": "code",
   "execution_count": 46,
   "id": "cf5d2340",
   "metadata": {},
   "outputs": [
    {
     "name": "stdout",
     "output_type": "stream",
     "text": [
      "  Row Labels  01 Business  02 Holiday  03 Study  09 Medical treatment  \\\n",
      "0  1Overseas       2489.0      162341     814.0                  61.0   \n",
      "1    1Europe        974.0       92174     424.0                  30.0   \n",
      "2    Albania          NaN           7       NaN                   NaN   \n",
      "3    Andorra          NaN          24       NaN                   NaN   \n",
      "4    Austria         13.0        1239       6.0                   NaN   \n",
      "\n",
      "   Grand Total  \n",
      "0       165705  \n",
      "1        93602  \n",
      "2            7  \n",
      "3           24  \n",
      "4         1258  \n"
     ]
    }
   ],
   "source": [
    "pivot_df = pd.read_excel('Tables, August 2023.xlsx', sheet_name=2, skiprows=5)  \n",
    "print(pivot_df.head())"
   ]
  },
  {
   "cell_type": "markdown",
   "id": "99387cbf",
   "metadata": {},
   "source": [
    "## Standardizing country and region names"
   ]
  },
  {
   "cell_type": "code",
   "execution_count": 96,
   "id": "2447d3bc",
   "metadata": {},
   "outputs": [
    {
     "name": "stdout",
     "output_type": "stream",
     "text": [
      "         Row Labels  01 Business  02 Holiday  03 Study  09 Medical treatment  \\\n",
      "0          Overseas       2489.0      162341     814.0                  61.0   \n",
      "1            Europe        974.0       92174     424.0                  30.0   \n",
      "2           Albania          NaN           7       NaN                   NaN   \n",
      "3           Andorra          NaN          24       NaN                   NaN   \n",
      "4           Austria         13.0        1239       6.0                   NaN   \n",
      "..              ...          ...         ...       ...                   ...   \n",
      "142  SADC Countries      17833.0      510313    2308.0                 171.0   \n",
      "143          Angola         26.0        3491      71.0                  28.0   \n",
      "144        Botswana       1070.0       24854     225.0                  18.0   \n",
      "145             DRC         72.0        2014     100.0                  27.0   \n",
      "146        Eswatini       2567.0       64196     182.0                   6.0   \n",
      "\n",
      "     Grand Total  \n",
      "0         165705  \n",
      "1          93602  \n",
      "2              7  \n",
      "3             24  \n",
      "4           1258  \n",
      "..           ...  \n",
      "142       530625  \n",
      "143         3616  \n",
      "144        26167  \n",
      "145         2213  \n",
      "146        66951  \n",
      "\n",
      "[147 rows x 6 columns]\n"
     ]
    }
   ],
   "source": [
    "\n",
    "pivot_df = pd.read_excel('Tables, August 2023.xlsx', sheet_name=2, skiprows=5)  \n",
    "\n",
    "countries_list = pivot_df.iloc[6:146, 0].tolist()\n",
    "\n",
    "country_mapping = {\n",
    "    '1Overseas': 'Overseas',\n",
    "    '1Europe': 'Europe',\n",
    "    '8ASADC': 'SADC Countries'  \n",
    "}\n",
    "\n",
    "def clean_country_name(name):\n",
    "    \n",
    "    regional_groupings = {\n",
    "        '8ASADC': 'SADC Countries',\n",
    "       \n",
    "    }\n",
    "    \n",
    "   \n",
    "    if name in regional_groupings:\n",
    "        return regional_groupings[name]\n",
    "    # Remove numerical prefixes and special characters\n",
    "    cleaned_name = name.strip('0123456789.-,;:')\n",
    "    \n",
    "    # Correct typographical errors\n",
    "    cleaned_name = cleaned_name.replace('Usa', 'USA')\n",
    "    \n",
    "    # Clarify regional groupings\n",
    "    if cleaned_name in country_mapping:\n",
    "        return country_mapping[cleaned_name]\n",
    "    \n",
    "    return cleaned_name\n",
    "\n",
    "# Apply the clean_country_name function to standardize country names\n",
    "pivot_df['Row Labels'] = pivot_df['Row Labels'].apply(clean_country_name)\n",
    "\n",
    "\n",
    "pivot_df.to_excel('standardized_pivot_data.xlsx', index=False)\n",
    "\n",
    "\n",
    "print(pivot_df.head(147))"
   ]
  },
  {
   "cell_type": "markdown",
   "id": "791e7370",
   "metadata": {},
   "source": [
    "## Clean Purpose Columns"
   ]
  },
  {
   "cell_type": "code",
   "execution_count": 97,
   "id": "6508da14",
   "metadata": {},
   "outputs": [
    {
     "name": "stdout",
     "output_type": "stream",
     "text": [
      "  RowLabels  01Business  02Holiday  03Study  09Medicaltreatment  GrandTotal\n",
      "0  Overseas      2489.0     162341    814.0                61.0      165705\n",
      "1    Europe       974.0      92174    424.0                30.0       93602\n",
      "2   Albania         NaN          7      NaN                 NaN           7\n",
      "3   Andorra         NaN         24      NaN                 NaN          24\n",
      "4   Austria        13.0       1239      6.0                 NaN        1258\n"
     ]
    }
   ],
   "source": [
    "# 2. Clean purpose columns\n",
    "\n",
    "pivot_df.columns = [col.strip().replace('Purpose', '').replace(' ', '') for col in pivot_df.columns]\n",
    "purpose_columns = [col for col in pivot_df.columns if col.startswith('Purpose')]\n",
    "pivot_df[purpose_columns] = pivot_df[purpose_columns].apply(lambda x: x.str.replace(r'\\d+', '').str.strip())\n",
    "\n",
    "\n",
    "print(pivot_df.head())\n",
    "\n"
   ]
  },
  {
   "cell_type": "code",
   "execution_count": 98,
   "id": "0a0e1e40",
   "metadata": {},
   "outputs": [
    {
     "name": "stdout",
     "output_type": "stream",
     "text": [
      "  RowLabels  Business  Holiday  Study  Medicaltreatment  GrandTotal\n",
      "0  Overseas    2489.0   162341  814.0              61.0      165705\n",
      "1    Europe     974.0    92174  424.0              30.0       93602\n",
      "2   Albania       NaN        7    NaN               NaN           7\n",
      "3   Andorra       NaN       24    NaN               NaN          24\n",
      "4   Austria      13.0     1239    6.0               NaN        1258\n"
     ]
    }
   ],
   "source": [
    "\n",
    "# Remove numerical prefixes from purpose column names\n",
    "prefix_length = 2 \n",
    "pivot_df.columns = [col[prefix_length:].strip() if col[:prefix_length].isdigit() else col for col in pivot_df.columns]\n",
    "\n",
    "\n",
    "pivot_df.to_excel('standardized_pivot_data.xlsx', index=False)\n",
    "\n",
    "\n",
    "print(pivot_df.head())\n"
   ]
  },
  {
   "cell_type": "markdown",
   "id": "40f571df",
   "metadata": {},
   "source": [
    "# Data Integration "
   ]
  },
  {
   "cell_type": "markdown",
   "id": "1f14039c",
   "metadata": {},
   "source": [
    "## Create new columns for Year, Month, and Date"
   ]
  },
  {
   "cell_type": "code",
   "execution_count": 102,
   "id": "2f4c6b6f",
   "metadata": {},
   "outputs": [
    {
     "name": "stdout",
     "output_type": "stream",
     "text": [
      "  RowLabels  Business  Holiday  Study  Medicaltreatment  GrandTotal  Year  \\\n",
      "0  Overseas    2489.0   162341  814.0              61.0      165705  2023   \n",
      "1    Europe     974.0    92174  424.0              30.0       93602  2023   \n",
      "2   Albania       NaN        7    NaN               NaN           7  2023   \n",
      "3   Andorra       NaN       24    NaN               NaN          24  2023   \n",
      "4   Austria      13.0     1239    6.0               NaN        1258  2023   \n",
      "\n",
      "  Month     Date  \n",
      "0   Aug  2023-08  \n",
      "1   Aug  2023-08  \n",
      "2   Aug  2023-08  \n",
      "3   Aug  2023-08  \n",
      "4   Aug  2023-08  \n"
     ]
    }
   ],
   "source": [
    "# Create new columns for Year, Month, and Date\n",
    "pivot_df['Year'] = 2023\n",
    "pivot_df['Month'] = 'Aug'\n",
    "pivot_df['Date'] = '2023-08'\n",
    "\n",
    "pivot_df.to_excel('standardized_pivot_data.xlsx', index=False)\n",
    "\n",
    "print(pivot_df.head())  \n"
   ]
  },
  {
   "cell_type": "markdown",
   "id": "70cc1865",
   "metadata": {},
   "source": [
    "## Intergrating 'Tourist, Purpose' into the 'Tourist, Purpose (2)'"
   ]
  },
  {
   "cell_type": "code",
   "execution_count": 113,
   "id": "c8ebf7aa",
   "metadata": {},
   "outputs": [
    {
     "name": "stdout",
     "output_type": "stream",
     "text": [
      "Columns in df_current: ['RowLabels', 'Business', 'Holiday', 'Study', 'Medicaltreatment', 'GrandTotal', 'Year', 'Month', 'Date']\n",
      "Columns in df_historical: ['Unnamed:0', 'Unnamed:1', 'Unnamed:2', 'Unnamed:3', 'RowLabels', 'Unnamed:5', 'Unnamed:6', 'Unnamed:7', 'Unnamed:8', 'Unnamed:9', 'Unnamed:10', 'GrandTotal', 'GrandTotal.1', 'Business', 'Holiday', 'Study', 'Medicaltreatment']\n"
     ]
    }
   ],
   "source": [
    "\n",
    "# Load the cleaned current dataset \n",
    "df_current = pd.read_excel('standardized_pivot_data.xlsx')\n",
    "\n",
    "# Load the historical dataset \n",
    "df_historical = pd.read_excel('Tables, August 2023.xlsx', sheet_name=1)\n",
    "\n",
    "\n",
    "# Clean data in df_historical\n",
    "df_historical = df_historical.drop_duplicates()  # Remove duplicate rows\n",
    "# Remove spaces from column names\n",
    "df_historical.columns = df_historical.columns.str.replace(' ', '')\n",
    "\n",
    "\n",
    "\n",
    "print(\"Columns in df_current:\", df_current.columns.tolist())\n",
    "print(\"Columns in df_historical:\", df_historical.columns.tolist())\n"
   ]
  },
  {
   "cell_type": "markdown",
   "id": "e2347119",
   "metadata": {},
   "source": [
    " Append the cleaned data to the historical data"
   ]
  },
  {
   "cell_type": "code",
   "execution_count": 116,
   "id": "7915d662",
   "metadata": {},
   "outputs": [
    {
     "name": "stdout",
     "output_type": "stream",
     "text": [
      "  RowLabels  Business_x  Holiday_x  Study_x  Medicaltreatment_x  GrandTotal_x  \\\n",
      "0  Overseas      2489.0   162341.0    814.0                61.0      165705.0   \n",
      "1    Europe       974.0    92174.0    424.0                30.0       93602.0   \n",
      "2   Albania         NaN        7.0      NaN                 NaN           7.0   \n",
      "3   Andorra         NaN       24.0      NaN                 NaN          24.0   \n",
      "4   Austria        13.0     1239.0      6.0                 NaN        1258.0   \n",
      "\n",
      "     Year Month     Date  Unnamed:0  ... Unnamed:7 Unnamed:8     Unnamed:9  \\\n",
      "0  2023.0   Aug  2023-08        NaN  ...       NaN       NaN           NaN   \n",
      "1  2023.0   Aug  2023-08     2023.0  ...    Europe    REGION        REGION   \n",
      "2  2023.0   Aug  2023-08     2023.0  ...   Albania    EUROPE  OTHER EUROPE   \n",
      "3  2023.0   Aug  2023-08     2023.0  ...   Andorra    EUROPE  OTHER EUROPE   \n",
      "4  2023.0   Aug  2023-08     2023.0  ...   Austria    EUROPE       AUSTRIA   \n",
      "\n",
      "  Unnamed:10 GrandTotal_y GrandTotal.1 Business_y Holiday_y Study_y  \\\n",
      "0        NaN          NaN          NaN        NaN       NaN     NaN   \n",
      "1     REGION      93602.0      93602.0      974.0   92174.0   424.0   \n",
      "2     EUROPE          7.0          7.0        NaN       7.0     NaN   \n",
      "3     EUROPE         24.0         24.0        NaN      24.0     NaN   \n",
      "4     EUROPE       1258.0       1258.0       13.0    1239.0     6.0   \n",
      "\n",
      "   Medicaltreatment_y  \n",
      "0                 NaN  \n",
      "1                30.0  \n",
      "2                 NaN  \n",
      "3                 NaN  \n",
      "4                 NaN  \n",
      "\n",
      "[5 rows x 25 columns]\n"
     ]
    }
   ],
   "source": [
    "# Merge the current dataset with the  historical dataset\n",
    "\n",
    "merged_df = pd.merge(df_current, df_historical, on='RowLabels', how='outer')\n",
    "\n",
    "\n",
    "merged_df.to_excel('Tourists, Purpose_Merged.xlsx', index=False)\n",
    "\n",
    "\n",
    "print(merged_df.head())\n"
   ]
  },
  {
   "cell_type": "markdown",
   "id": "4d5707eb",
   "metadata": {},
   "source": [
    "## Load the appended sheet into the workbook"
   ]
  },
  {
   "cell_type": "code",
   "execution_count": 117,
   "id": "59716722",
   "metadata": {},
   "outputs": [
    {
     "name": "stdout",
     "output_type": "stream",
     "text": [
      "Merged data loaded into 'Tables, August 2023.xlsx' in sheet 'Tourists, Purpose_Merged'.\n"
     ]
    }
   ],
   "source": [
    "from openpyxl import load_workbook\n",
    "\n",
    "# File paths\n",
    "original_file_path = 'Tables, August 2023.xlsx'\n",
    "merged_file_path = 'Tourists, Purpose_Merged.xlsx'\n",
    "\n",
    "# Load the original Excel file and merged data file\n",
    "original_wb = load_workbook(filename=original_file_path)\n",
    "merged_wb = load_workbook(filename=merged_file_path)\n",
    "\n",
    "# Get the active sheet from the merged data\n",
    "merged_sheet = merged_wb.active\n",
    "\n",
    "# Create a new sheet in the original workbook\n",
    "new_sheet_name = 'Tourists, Purpose_Merged'\n",
    "new_sheet = original_wb.create_sheet(title=new_sheet_name)\n",
    "\n",
    "# Copy data from the merged sheet to the new sheet in the original workbook\n",
    "for row in merged_sheet.iter_rows(values_only=True):\n",
    "    new_sheet.append(row)\n",
    "\n",
    "\n",
    "original_wb.save(filename=original_file_path)\n",
    "\n",
    "print(f\"Merged data loaded into '{original_file_path}' in sheet '{new_sheet_name}'.\")\n"
   ]
  },
  {
   "cell_type": "code",
   "execution_count": null,
   "id": "37636d98",
   "metadata": {},
   "outputs": [],
   "source": []
  }
 ],
 "metadata": {
  "kernelspec": {
   "display_name": "Python 3 (ipykernel)",
   "language": "python",
   "name": "python3"
  },
  "language_info": {
   "codemirror_mode": {
    "name": "ipython",
    "version": 3
   },
   "file_extension": ".py",
   "mimetype": "text/x-python",
   "name": "python",
   "nbconvert_exporter": "python",
   "pygments_lexer": "ipython3",
   "version": "3.11.3"
  }
 },
 "nbformat": 4,
 "nbformat_minor": 5
}
